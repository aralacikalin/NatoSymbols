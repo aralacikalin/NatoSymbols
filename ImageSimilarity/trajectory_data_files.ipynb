{
  "nbformat": 4,
  "nbformat_minor": 0,
  "metadata": {
    "colab": {
      "provenance": []
    },
    "kernelspec": {
      "name": "python3",
      "display_name": "Python 3"
    },
    "language_info": {
      "name": "python"
    },
    "gpuClass": "standard"
  },
  "cells": [
    {
      "cell_type": "code",
      "execution_count": null,
      "metadata": {
        "id": "670U7jMTQwvQ"
      },
      "outputs": [],
      "source": [
        "import numpy as np\n",
        "import cv2\n",
        "import os\n",
        "import re\n",
        "from scipy import ndimage\n",
        "from tqdm import tqdm\n",
        "from keras.models import Model\n",
        "from keras.layers import Input, Conv2D, MaxPooling2D, Conv2DTranspose, Reshape, UpSampling2D\n",
        "\n",
        "from google.colab.patches import cv2_imshow\n",
        "from google.colab import drive"
      ]
    },
    {
      "cell_type": "code",
      "source": [
        "!mkdir /content/images\n",
        "\n",
        "drive.mount('/content/drive')\n",
        "\n",
        "!unzip -q '/content/drive/My Drive/NATO/trajectory_images.zip' -d '/content/images'"
      ],
      "metadata": {
        "id": "Me7Tfm-cRTu9"
      },
      "execution_count": null,
      "outputs": []
    },
    {
      "cell_type": "code",
      "source": [
        "Dict = {0: 'advance_to_contact', 2: 'attack', 9: 'counterattack', 18: 'main_attack'}\n",
        "Dict_images = {key: [] for key in Dict.values()}"
      ],
      "metadata": {
        "id": "6KV_fbu5RPSU"
      },
      "execution_count": null,
      "outputs": []
    },
    {
      "cell_type": "code",
      "source": [
        "def cut_excess_white(symbol, excess_str = 120):\n",
        "    symbol = symbol[np.argwhere(np.amin(symbol,axis=1) < excess_str)[0][0]:np.argwhere(np.amin(symbol,axis=1) < excess_str)[-1][0],:]\n",
        "    symbol = symbol[:,np.argwhere(np.amin(symbol,axis=0) < excess_str)[0][0]:np.argwhere(np.amin(symbol,axis=0) < excess_str)[-1][0]]\n",
        "    return symbol"
      ],
      "metadata": {
        "id": "4PbsTE4qTVhw"
      },
      "execution_count": null,
      "outputs": []
    },
    {
      "cell_type": "code",
      "source": [
        "data = '/content/images'\n",
        "file_list=os.listdir(data)\n",
        "\n",
        "symbols_regex = '([a-zA-Z_ ]*)\\d*.*'\n",
        "for filename in tqdm(file_list):\n",
        "    img = cv2.imread(data+\"/\"+filename, 0)\n",
        "    img[img <= 100] = 0\n",
        "    img[img > 100] = 255\n",
        "    img = cut_excess_white(img)\n",
        "    key = re.findall(symbols_regex, filename)[0]\n",
        "    Dict_images[key].append(img)"
      ],
      "metadata": {
        "id": "7quRToxoRgfC"
      },
      "execution_count": null,
      "outputs": []
    },
    {
      "cell_type": "code",
      "source": [
        "Dict_images_all = {key: [] for key in Dict.values()}"
      ],
      "metadata": {
        "id": "Guvj7gRpgUhy"
      },
      "execution_count": null,
      "outputs": []
    },
    {
      "cell_type": "code",
      "source": [
        "def rotate_images(image, symbol):\n",
        "    for degree in range(0, 359, 5):\n",
        "        rotation_angle = degree\n",
        "        img = ndimage.rotate(image, rotation_angle, mode='constant', cval=255)\n",
        "        dim = (120, 120)\n",
        "        resized_img = cv2.resize(img, dim, interpolation = cv2.INTER_AREA)\n",
        "        Dict_images_all[symbol].append(resized_img)"
      ],
      "metadata": {
        "id": "-fCiKHvfXL0N"
      },
      "execution_count": null,
      "outputs": []
    },
    {
      "cell_type": "code",
      "source": [
        "for i in Dict_images.keys():\n",
        "    print(str(i))\n",
        "    for img in tqdm(Dict_images[str(i)]):\n",
        "        rotate_images(img, str(i))"
      ],
      "metadata": {
        "id": "-ZRg04h9YZBN"
      },
      "execution_count": null,
      "outputs": []
    },
    {
      "cell_type": "code",
      "source": [
        "def model_version1():\n",
        "    # autoencoder model\n",
        "    # encoder\n",
        "    input = Input(shape=(120, 120, 1))\n",
        "    x = Conv2D(16, (3, 3), activation='relu', padding='same')(input)\n",
        "    x = MaxPooling2D(pool_size=(2, 2), padding='same')(x)\n",
        "    x = Conv2D(32, (3, 3), activation='relu', padding='same')(x)\n",
        "    x = MaxPooling2D(pool_size=(2, 2), padding='same')(x)\n",
        "    x = Conv2D(64, (3, 3), activation='relu', padding='same')(x)\n",
        "    encoded = MaxPooling2D(pool_size=(2, 2), padding='same', name=\"encoded\")(x)\n",
        "    #decoder\n",
        "    x = Conv2D(64, (3, 3), activation='relu', padding='same')(encoded)\n",
        "    x = UpSampling2D((2, 2))(x)\n",
        "    x = Conv2D(32, (3, 3), activation='relu', padding='same')(x)\n",
        "    x = UpSampling2D((2, 2))(x)\n",
        "    x = Conv2D(16, (3, 3), activation='relu', padding='same')(x)\n",
        "    x = UpSampling2D((2, 2))(x)\n",
        "    decoded = Conv2D(1, (3, 3), activation='sigmoid', padding='same')(x)\n",
        "\n",
        "    model = Model(inputs=input, outputs=decoded)\n",
        "\n",
        "    return model"
      ],
      "metadata": {
        "id": "gk74rOc8oUeT"
      },
      "execution_count": null,
      "outputs": []
    },
    {
      "cell_type": "code",
      "source": [
        "model = model_version1()\n",
        "\n",
        "for i in Dict_images_all.keys():\n",
        "    str(i)\n",
        "    model.load_weights('/content/drive/MyDrive/models_trajectory/'+str(i)+'_trajectory_autoencoder.h5')\n",
        "    encoder = Model(inputs=model.input, outputs=model.get_layer(\"encoded\").output)\n",
        "\n",
        "    images = np.array(Dict_images_all[str(i)])\n",
        "    images = images.astype('float32') / 255.\n",
        "    images = images.reshape(images.shape[0], images.shape[1], images.shape[2], 1)\n",
        "\n",
        "    features = encoder.predict(images)\n",
        "    data = {\"images\": Dict_images_all[str(i)], \"features\": features}\n",
        "    np.save(str(i)+\"_trajectory_data.npy\", data)"
      ],
      "metadata": {
        "id": "5o60_V7fnxko"
      },
      "execution_count": null,
      "outputs": []
    }
  ]
}