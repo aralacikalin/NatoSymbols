{
 "cells": [
  {
   "cell_type": "markdown",
   "metadata": {
    "id": "5TouV7GGnfU2"
   },
   "source": [
    "# Training"
   ]
  },
  {
   "cell_type": "code",
   "execution_count": 1,
   "metadata": {
    "id": "VC_ANlY2qRDR"
   },
   "outputs": [],
   "source": [
    "import numpy as np\n",
    "import cv2\n",
    "import random\n",
    "from random import randint\n",
    "from scipy import ndimage\n",
    "import os\n",
    "import sys\n",
    "\n",
    "from matplotlib import pyplot as plt\n",
    "\n",
    "from keras.utils import to_categorical\n",
    "from keras.callbacks import ModelCheckpoint, EarlyStopping, TensorBoard\n",
    "from keras.layers import Dense, Dropout, Flatten, Input, BatchNormalization, Conv2D, MaxPooling2D\n",
    "from keras.models import Model\n",
    "from keras import metrics\n",
    "import keras.backend as backend\n",
    "\n",
    "from sklearn.metrics import accuracy_score\n",
    "\n",
    "from tqdm import tqdm"
   ]
  },
  {
   "cell_type": "code",
   "execution_count": 2,
   "metadata": {
    "id": "xIxstq8zF_Fn"
   },
   "outputs": [],
   "source": [
    "# Here are classes named for training\n",
    "Dict = {0: 'advance_to_contact', 1: 'ambush', 2: 'attack', 3: 'attack_by_fire', 4: 'block',\n",
    "        5: 'breach', 6: 'clear', 7: 'contain', 8: 'control', 9: 'counterattack', 10: 'cover',\n",
    "        11: 'delay', 12: 'deny', 13: 'destroy', 14: 'disrupt', 15: 'fix', 16: 'guard',\n",
    "        17: 'isolate', 18: 'main_attack', 19: 'neutralize', 20: 'occupy', 21: 'penetrate',\n",
    "        22: 'retain', 23: 'retire', 24: 'screen', 25: 'secure', 26: 'seize', 27: 'support_by_fire',\n",
    "        28: 'suppress', 29: 'turn', 30: 'withdraw'}"
   ]
  },
  {
   "cell_type": "code",
   "execution_count": 3,
   "metadata": {
    "id": "glPVR8UjUHq7"
   },
   "outputs": [],
   "source": [
    "Dict_images = {key: [] for key in Dict.values()}\n",
    "Dict_rotations = {key: [] for key in Dict.values()}"
   ]
  },
  {
   "cell_type": "code",
   "execution_count": 4,
   "metadata": {
    "id": "XWP6rg1aSaca"
   },
   "outputs": [
    {
     "name": "stderr",
     "output_type": "stream",
     "text": [
      "100%|█████████████████████████████████████████████████████████████████████████| 150000/150000 [06:13<00:00, 401.77it/s]\n"
     ]
    }
   ],
   "source": [
    "images = './train/images/train'\n",
    "labels = './train/labels/train_l'\n",
    "rotations = './train/rotations/train_r'\n",
    "\n",
    "file_list = os.listdir(images)\n",
    "\n",
    "for name in tqdm(file_list):\n",
    "    tmp_list_class = []\n",
    "    image = cv2.imread(images+\"/\"+name, cv2.IMREAD_GRAYSCALE)\n",
    "    with open(labels+\"/\"+str(name).split(\".\")[0]+\".txt\") as f:\n",
    "        lines = [line.rstrip('\\n') for line in f]\n",
    "        for line in lines:\n",
    "            x = int((float(line.split(\" \")[1])-(float(line.split(\" \")[3])/2)) * 770)\n",
    "            y = int((float(line.split(\" \")[2])-(float(line.split(\" \")[4])/2)) * 576)\n",
    "            w = int(float(line.split(\" \")[3]) * 770 + 5)\n",
    "            h = int(float(line.split(\" \")[4]) * 576 + 5)\n",
    "\n",
    "            crop_image = image[y:y+h, x:x+w]\n",
    "            tmp_list_class.append(int(line.split(\" \")[0]))\n",
    "            dim = (80, 80)\n",
    "            resized_img = cv2.resize(crop_image, dim, interpolation = cv2.INTER_AREA)\n",
    "            Dict_images[Dict[int(line.split(\" \")[0])]].append(resized_img)\n",
    "    with open(rotations+\"/\"+str(name).split(\".\")[0]+\".txt\") as a:\n",
    "        r = [line.rstrip('\\n') for line in a]\n",
    "        i = 0\n",
    "        for rotation in r:\n",
    "            Dict_rotations[Dict[tmp_list_class[i]]].append(rotation)\n",
    "            i += 1"
   ]
  },
  {
   "cell_type": "code",
   "execution_count": null,
   "metadata": {
    "colab": {
     "base_uri": "https://localhost:8080/",
     "height": 1000
    },
    "id": "en8iMtrQjby3",
    "outputId": "9743e8e8-7462-4643-b0a8-ca611f26867a",
    "pycharm": {
     "is_executing": true
    }
   },
   "outputs": [],
   "source": [
    "for i in Dict_images.keys():\n",
    "    print(str(i))\n",
    "    plt.imshow(Dict_images[str(i)][0])\n",
    "    plt.show()"
   ]
  },
  {
   "cell_type": "code",
   "execution_count": 8,
   "metadata": {
    "id": "EvNm585otivP"
   },
   "outputs": [],
   "source": [
    "def angle_error_metric(y_true, y_pred):\n",
    "    diff = 180 - abs(abs(backend.argmax(y_true) - backend.argmax(y_pred)) - 180)\n",
    "    return backend.mean(backend.cast(backend.abs(diff), backend.floatx()))\n",
    "\n",
    "def angle_error(y_true, y_pred):\n",
    "    diff = 180 - abs(abs(y_true - y_pred) - 180)\n",
    "    return np.abs(diff)\n",
    "\n",
    "def angle_error_metric_sym(y_true, y_pred):\n",
    "    diff = 180 - abs(abs(backend.argmax(y_true) - backend.argmax(y_pred)) - 180)\n",
    "    if diff > 90:\n",
    "        diff = 180 - diff\n",
    "    return backend.mean(backend.cast(backend.abs(diff), backend.floatx()))\n",
    "\n",
    "def angle_error_sym(y_true, y_pred):\n",
    "    diff = 180 - abs(abs(y_true - y_pred) - 180)\n",
    "    if diff > 90:\n",
    "        diff = 180 - diff\n",
    "    return np.abs(diff)"
   ]
  },
  {
   "cell_type": "code",
   "execution_count": 67,
   "metadata": {},
   "outputs": [],
   "source": [
    "def CNNModel():\n",
    "    classes = 360\n",
    "\n",
    "    input = Input(shape=(80, 80, 1))\n",
    "    x = Conv2D(32, kernel_size = (3, 3), strides = (1, 1), padding = 'same', activation='relu')(input)\n",
    "    x = Conv2D(32, kernel_size = (3, 3), strides = (2, 2), padding = 'same', activation='relu')(x)\n",
    "    x = MaxPooling2D(pool_size=(2, 2), padding = 'same')(x)\n",
    "    x = Dropout(0.25)(x)\n",
    "    x = Dense(64, activation='relu')(x)\n",
    "    x = BatchNormalization()(x)\n",
    "    x = Conv2D(32, kernel_size = (3, 3), strides = (1, 1), padding = 'same', activation='relu')(x)\n",
    "    x = Conv2D(32, kernel_size = (3, 3), strides = (1, 1), padding = 'same', activation='relu')(x)\n",
    "    x = MaxPooling2D(pool_size=(2, 2), padding = 'same')(x)\n",
    "    x = Dropout(0.25)(x)\n",
    "    x = Dense(32, activation='relu')(x)\n",
    "    x = BatchNormalization()(x)\n",
    "    x = Flatten()(x)\n",
    "    x = Dense(classes, activation='softmax')(x)\n",
    "\n",
    "    model = Model(inputs=input, outputs=x)\n",
    "    # print(model.summary())\n",
    "\n",
    "    return model"
   ]
  },
  {
   "cell_type": "code",
   "execution_count": null,
   "metadata": {
    "colab": {
     "base_uri": "https://localhost:8080/"
    },
    "id": "EEAiUdB0h_Fo",
    "outputId": "890b814a-244e-414e-f218-74c5f3525736",
    "pycharm": {
     "is_executing": true
    }
   },
   "outputs": [],
   "source": [
    "# for i in Dict_images.keys():\n",
    "for i in ['turn', 'withdraw']:\n",
    "    print(str(i))\n",
    "    x = Dict_images[str(i)]\n",
    "    y = Dict_rotations[str(i)]\n",
    "\n",
    "    y_categorical = to_categorical(y, 360)\n",
    "\n",
    "    x_train = np.array(x[0:])\n",
    "    y_train = np.array(y_categorical)\n",
    "\n",
    "    x_train = x_train.reshape(x_train.shape[0], x_train.shape[1], x_train.shape[2], 1)\n",
    "\n",
    "    print(x_train.shape, y_train.shape)\n",
    "\n",
    "    model = CNNModel()\n",
    "\n",
    "    # Compile the model\n",
    "    model.compile(loss='categorical_crossentropy',\n",
    "                optimizer='adam',\n",
    "                metrics=[metrics.categorical_accuracy, angle_error_metric])\n",
    "\n",
    "    # Fit the model\n",
    "    model.fit(x_train, y_train, batch_size = 64, epochs = 50)\n",
    "\n",
    "    model.save(\"./rotation_models/\"+str(i)+\"_rotation_model_0903.h5\")"
   ]
  },
  {
   "cell_type": "markdown",
   "metadata": {
    "id": "9gh1ZAIgnbGY"
   },
   "source": [
    "# Prediction"
   ]
  },
  {
   "cell_type": "code",
   "execution_count": 64,
   "metadata": {
    "id": "nr28Hd3C6M9M"
   },
   "outputs": [],
   "source": [
    "Dict_images_test = {key: [] for key in Dict.values()}\n",
    "Dict_rotations_test = {key: [] for key in Dict.values()}\n",
    "Dict_predicted_test = {key: [] for key in Dict.values()}\n",
    "Dict_angle_errors_test  = {key: [] for key in Dict.values()}"
   ]
  },
  {
   "cell_type": "code",
   "execution_count": null,
   "metadata": {
    "colab": {
     "base_uri": "https://localhost:8080/"
    },
    "id": "Kt3ZRk6N4UxE",
    "outputId": "12b5ac22-5d94-427d-e6e6-05bf9eccfdfe",
    "pycharm": {
     "is_executing": true
    }
   },
   "outputs": [],
   "source": [
    "images_test = './test/images/test'\n",
    "labels_test = './test/labels/test_l'\n",
    "rotations_test = './test/rotations/test_r'\n",
    "\n",
    "file_list = os.listdir(images_test)\n",
    "\n",
    "for name in tqdm(file_list):\n",
    "    tmp_list_class = []\n",
    "    image = cv2.imread(images_test+\"/\"+name, cv2.IMREAD_GRAYSCALE)\n",
    "    with open(labels_test+\"/\"+str(name).split(\".\")[0]+\".txt\") as f:\n",
    "        lines = [line.rstrip('\\n') for line in f]\n",
    "        for line in lines:\n",
    "            x = int((float(line.split(\" \")[1])-(float(line.split(\" \")[3])/2)) * 770)\n",
    "            y = int((float(line.split(\" \")[2])-(float(line.split(\" \")[4])/2)) * 576)\n",
    "            w = int(float(line.split(\" \")[3]) * 770 + 5)\n",
    "            h = int(float(line.split(\" \")[4]) * 576 + 5)\n",
    "\n",
    "            crop_image = image[y:y+h, x:x+w]\n",
    "            tmp_list_class.append(int(line.split(\" \")[0]))\n",
    "            dim = (80, 80)\n",
    "            resized_img = cv2.resize(crop_image, dim, interpolation = cv2.INTER_AREA)\n",
    "            Dict_images_test[Dict[int(line.split(\" \")[0])]].append(resized_img)\n",
    "\n",
    "            ## Predict\n",
    "            reshaped_img = resized_img.reshape(1, 80, 80)\n",
    "            model = CNNModel()\n",
    "            model.load_weights('./rotation_models/'+Dict[int(line.split(\" \")[0])]+'_rotation_model_0903.h5')\n",
    "            predicted_rotation = model.predict(reshaped_img, verbose=0)\n",
    "            Dict_predicted_test[Dict[int(line.split(\" \")[0])]].append(np.argmax(predicted_rotation))\n",
    "    with open(rotations_test+\"/\"+str(name).split(\".\")[0]+\".txt\") as a:\n",
    "        r = [line.rstrip('\\n') for line in a]\n",
    "        i = 0\n",
    "        for rotation in r:\n",
    "            Dict_rotations_test[Dict[tmp_list_class[i]]].append(rotation)\n",
    "            i += 1"
   ]
  },
  {
   "cell_type": "code",
   "execution_count": null,
   "metadata": {
    "colab": {
     "base_uri": "https://localhost:8080/"
    },
    "id": "nx04F-HZEAC0",
    "outputId": "7902efc5-553d-44a3-bf85-bcff9deb0d71",
    "pycharm": {
     "is_executing": true
    }
   },
   "outputs": [],
   "source": [
    "for i in Dict_images.keys():\n",
    "    print(str(i))\n",
    "    symbol_name = str(i)\n",
    "\n",
    "    print(len(Dict_rotations_test[symbol_name]))\n",
    "    if str(i) in ['destroy', 'neutralize', 'suppress']:\n",
    "        for i in range(len(Dict_rotations_test[symbol_name])):\n",
    "            Dict_angle_errors_test[symbol_name].append(angle_error_sym(int(Dict_rotations_test[symbol_name][i]), int(Dict_predicted_test[symbol_name][i])))\n",
    "    else:\n",
    "        for i in range(len(Dict_rotations_test[symbol_name])):\n",
    "            Dict_angle_errors_test[symbol_name].append(angle_error(int(Dict_rotations_test[symbol_name][i]), int(Dict_predicted_test[symbol_name][i])))\n",
    "\n",
    "    print(len(Dict_angle_errors_test[symbol_name]), round(np.mean(Dict_angle_errors_test[symbol_name]), 2))\n",
    "\n",
    "    kokku = sum(i <= 30 for i in Dict_angle_errors_test[symbol_name])\n",
    "    print(kokku, str(round(kokku/len(Dict_angle_errors_test[symbol_name])*100, 2))+\"%\")"
   ]
  },
  {
   "cell_type": "code",
   "execution_count": null,
   "metadata": {
    "colab": {
     "base_uri": "https://localhost:8080/"
    },
    "id": "ymTa9S0qLBhk",
    "outputId": "c098e863-52b3-4e2f-9b9c-8fa9185ae164",
    "pycharm": {
     "is_executing": true,
     "name": "#%%\n"
    }
   },
   "outputs": [],
   "source": [
    "symbol_name = \"advance_to_contact\"\n",
    "\n",
    "res = tuple(zip(Dict_angle_errors_test[symbol_name], Dict_rotations_test[symbol_name], Dict_predicted_test[symbol_name]))\n",
    "sorted(res, key = lambda x: (-x[0],x[1],x[2]))"
   ]
  }
 ],
 "metadata": {
  "accelerator": "GPU",
  "colab": {
   "provenance": []
  },
  "gpuClass": "standard",
  "kernelspec": {
   "display_name": "NatoSymbols",
   "language": "python",
   "name": "natosymbols"
  },
  "language_info": {
   "codemirror_mode": {
    "name": "ipython",
    "version": 3
   },
   "file_extension": ".py",
   "mimetype": "text/x-python",
   "name": "python",
   "nbconvert_exporter": "python",
   "pygments_lexer": "ipython3",
   "version": "3.8.16"
  }
 },
 "nbformat": 4,
 "nbformat_minor": 4
}
