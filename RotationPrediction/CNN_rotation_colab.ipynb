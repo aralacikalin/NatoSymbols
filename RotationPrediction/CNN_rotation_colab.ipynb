{
  "nbformat": 4,
  "nbformat_minor": 0,
  "metadata": {
    "colab": {
      "provenance": []
    },
    "kernelspec": {
      "name": "python3",
      "display_name": "Python 3"
    },
    "language_info": {
      "name": "python"
    },
    "gpuClass": "standard",
    "accelerator": "GPU"
  },
  "cells": [
    {
      "cell_type": "markdown",
      "source": [
        "# Training"
      ],
      "metadata": {
        "id": "5TouV7GGnfU2"
      }
    },
    {
      "cell_type": "code",
      "source": [
        "import numpy as np\n",
        "import cv2\n",
        "import random\n",
        "from random import randint\n",
        "from scipy import ndimage\n",
        "import os\n",
        "import sys\n",
        "\n",
        "from google.colab.patches import cv2_imshow\n",
        "\n",
        "from keras.utils import to_categorical\n",
        "from keras.callbacks import ModelCheckpoint, EarlyStopping, TensorBoard\n",
        "from keras.layers import Dense, Dropout, Flatten, Input, BatchNormalization, Conv2D, MaxPooling2D\n",
        "from keras.models import Model\n",
        "from keras import metrics\n",
        "import keras.backend as backend\n",
        "\n",
        "from sklearn.metrics import accuracy_score\n",
        "\n",
        "from tqdm import tqdm\n",
        "import shutil"
      ],
      "metadata": {
        "id": "VC_ANlY2qRDR"
      },
      "execution_count": null,
      "outputs": []
    },
    {
      "cell_type": "code",
      "source": [
        "# Here are classes named for training\n",
        "Dict = {0: 'advance_to_contact', 1: 'ambush', 2: 'attack', 3: 'attack_by_fire', 4: 'block', \n",
        "        5: 'breach', 6: 'clear', 7: 'contain', 8: 'control', 9: 'counterattack', 10: 'cover', \n",
        "        11: 'delay', 12: 'deny', 13: 'destroy', 14: 'disrupt', 15: 'fix', 16: 'guard', \n",
        "        17: 'isolate', 18: 'main_attack', 19: 'neutralize', 20: 'occupy', 21: 'penetrate', \n",
        "        22: 'retain', 23: 'retire', 24: 'screen', 25: 'secure', 26: 'seize', 27: 'support_by_fire', \n",
        "        28: 'suppress', 29: 'turn', 30: 'withdraw'}"
      ],
      "metadata": {
        "id": "xIxstq8zF_Fn"
      },
      "execution_count": null,
      "outputs": []
    },
    {
      "cell_type": "code",
      "source": [
        "Dict_images = {key: [] for key in Dict.values()}\n",
        "Dict_rotations = {key: [] for key in Dict.values()}"
      ],
      "metadata": {
        "id": "glPVR8UjUHq7"
      },
      "execution_count": null,
      "outputs": []
    },
    {
      "cell_type": "code",
      "source": [
        "from google.colab import drive\n",
        "drive.mount('/content/drive')"
      ],
      "metadata": {
        "colab": {
          "base_uri": "https://localhost:8080/"
        },
        "id": "1T41k8g3YFKR",
        "outputId": "6883e35d-3001-461d-8abf-560ad0f82b9c"
      },
      "execution_count": null,
      "outputs": [
        {
          "output_type": "stream",
          "name": "stdout",
          "text": [
            "Mounted at /content/drive\n"
          ]
        }
      ]
    },
    {
      "cell_type": "code",
      "source": [
        "def angle_error_metric(y_true, y_pred):\n",
        "    diff = 180 - abs(abs(backend.argmax(y_true) - backend.argmax(y_pred)) - 180)\n",
        "    return backend.mean(backend.cast(backend.abs(diff), backend.floatx()))\n",
        "\n",
        "def angle_error(y_true, y_pred):\n",
        "    diff = 180 - abs(abs(y_true - y_pred) - 180)\n",
        "    return np.abs(diff)\n",
        "\n",
        "def angle_error_metric_sym(y_true, y_pred):\n",
        "    diff = 180 - abs(abs(backend.argmax(y_true) - backend.argmax(y_pred)) - 180)\n",
        "    if diff > 90:\n",
        "        diff = 180 - diff\n",
        "    return backend.mean(backend.cast(backend.abs(diff), backend.floatx()))\n",
        "\n",
        "def angle_error_sym(y_true, y_pred):\n",
        "    diff = 180 - abs(abs(y_true - y_pred) - 180)\n",
        "    if diff > 90:\n",
        "        diff = 180 - diff\n",
        "    return np.abs(diff)"
      ],
      "metadata": {
        "id": "EvNm585otivP"
      },
      "execution_count": null,
      "outputs": []
    },
    {
      "cell_type": "code",
      "source": [
        "def CNNModel():\n",
        "    classes = 360\n",
        "\n",
        "    input = Input(shape=(80, 80, 1))\n",
        "    x = Conv2D(32, kernel_size = (3, 3), strides = (1, 1), padding = 'same', activation='relu')(input)\n",
        "    x = MaxPooling2D(pool_size=(2, 2), padding = 'same')(x)\n",
        "    x = BatchNormalization()(x)\n",
        "    x = Conv2D(32, kernel_size = (3, 3), strides = (1, 1), padding = 'same', activation='relu')(x)\n",
        "    x = MaxPooling2D(pool_size=(2, 2), padding = 'same')(x)\n",
        "    x = BatchNormalization()(x)\n",
        "    x = Conv2D(64, kernel_size = (3, 3), strides = (1, 1), padding = 'same', activation='relu')(x)\n",
        "    x = MaxPooling2D(pool_size=(2, 2), padding = 'same')(x)\n",
        "    x = BatchNormalization()(x)\n",
        "    x = Conv2D(64, kernel_size = (3, 3), strides = (1, 1), padding = 'same', activation='relu')(x)\n",
        "    x = MaxPooling2D(pool_size=(2, 2), padding = 'same')(x)\n",
        "    x = BatchNormalization()(x)\n",
        "    x = Dense(64, activation='relu')(x)\n",
        "    x = Dense(64, activation='relu')(x)\n",
        "    x = Flatten()(x)\n",
        "    x = Dense(classes, activation='softmax')(x)\n",
        "\n",
        "    model = Model(inputs=input, outputs=x)\n",
        "    # print(model.summary())\n",
        "\n",
        "    return model"
      ],
      "metadata": {
        "id": "QIdvnkTFK803"
      },
      "execution_count": null,
      "outputs": []
    },
    {
      "cell_type": "code",
      "source": [
        "!mkdir /content/images\n",
        "!mkdir /content/images/train\n",
        "!mkdir /content/labels\n",
        "!mkdir /content/labels/train\n",
        "!mkdir /content/rotations\n",
        "!mkdir /content/rotations/train"
      ],
      "metadata": {
        "id": "jOgDaQ9IR0Mr"
      },
      "execution_count": null,
      "outputs": []
    },
    {
      "cell_type": "code",
      "source": [
        "!unzip -q '/content/drive/My Drive/NATO/train.zip' -d '/content/images/train'\n",
        "!unzip -q '/content/drive/My Drive/NATO/train_l.zip' -d '/content/labels/train'\n",
        "!unzip -q '/content/drive/My Drive/NATO/train_r.zip' -d '/content/rotations/train'"
      ],
      "metadata": {
        "id": "5kYnqHM5v87I"
      },
      "execution_count": null,
      "outputs": []
    },
    {
      "cell_type": "code",
      "source": [
        "images = '/content/images/train'\n",
        "labels = '/content/labels/train'\n",
        "rotations = '/content/rotations/train'\n",
        "\n",
        "file_list = os.listdir(images)\n",
        "\n",
        "for name in tqdm(file_list):\n",
        "    tmp_list_class = []\n",
        "    image = cv2.imread(images+\"/\"+name, cv2.IMREAD_GRAYSCALE)\n",
        "    with open(labels+\"/\"+str(name).split(\".\")[0]+\".txt\") as f:\n",
        "        lines = [line.rstrip('\\n') for line in f]\n",
        "        for line in lines:\n",
        "            x = int((float(line.split(\" \")[1])-(float(line.split(\" \")[3])/2)) * 770)\n",
        "            y = int((float(line.split(\" \")[2])-(float(line.split(\" \")[4])/2)) * 576)\n",
        "            w = int(float(line.split(\" \")[3]) * 770 + 5)\n",
        "            h = int(float(line.split(\" \")[4]) * 576 + 5)\n",
        "\n",
        "            crop_image = image[y:y+h, x:x+w]\n",
        "            tmp_list_class.append(int(line.split(\" \")[0]))\n",
        "            dim = (80, 80)\n",
        "            resized_img = cv2.resize(crop_image, dim, interpolation = cv2.INTER_AREA)\n",
        "            Dict_images[Dict[int(line.split(\" \")[0])]].append(resized_img)\n",
        "    with open(rotations+\"/\"+str(name).split(\".\")[0]+\".txt\") as a:\n",
        "        r = [line.rstrip('\\n') for line in a]\n",
        "        i = 0\n",
        "        for rotation in r:\n",
        "            Dict_rotations[Dict[tmp_list_class[i]]].append(rotation)\n",
        "            i += 1"
      ],
      "metadata": {
        "id": "XWP6rg1aSaca",
        "colab": {
          "base_uri": "https://localhost:8080/"
        },
        "outputId": "5821a320-953f-451d-d163-9ae9e5ee15cc"
      },
      "execution_count": null,
      "outputs": [
        {
          "output_type": "stream",
          "name": "stderr",
          "text": [
            "100%|██████████| 150000/150000 [07:16<00:00, 343.62it/s]\n"
          ]
        }
      ]
    },
    {
      "cell_type": "code",
      "source": [
        "for i in Dict_images.keys():\n",
        "    print(str(i))\n",
        "    cv2_imshow(Dict_images[str(i)][0])"
      ],
      "metadata": {
        "id": "en8iMtrQjby3"
      },
      "execution_count": null,
      "outputs": []
    },
    {
      "cell_type": "code",
      "source": [
        "for i in Dict_images.keys():\n",
        "    print(str(i))\n",
        "    x = Dict_images[str(i)]\n",
        "    y = Dict_rotations[str(i)]\n",
        "\n",
        "    y_categorical = to_categorical(y, 360)\n",
        "\n",
        "    x_train = np.array(x[0:])\n",
        "    y_train = np.array(y_categorical)\n",
        "\n",
        "    x_train = x_train.reshape(x_train.shape[0], x_train.shape[1], x_train.shape[2], 1)\n",
        "\n",
        "    print(x_train.shape, y_train.shape)\n",
        "\n",
        "    model = CNNModel()\n",
        "\n",
        "    # Compile the model\n",
        "    model.compile(loss='categorical_crossentropy',\n",
        "                optimizer='adam',\n",
        "                metrics=[metrics.categorical_accuracy, angle_error_metric])\n",
        "\n",
        "    # Fit the model\n",
        "    model.fit(x_train, y_train, batch_size = 64, epochs = 200)\n",
        "\n",
        "    model.save(str(i)+\"_rotation_model_31_1203.h5\")\n",
        "\n",
        "    colab_link = '/content/'+str(i)+'_rotation_model_31_1203.h5'\n",
        "    gdrive_link = \"/content/drive/My Drive/models_rotation/1203/\"\n",
        "    shutil.copy(colab_link, gdrive_link)"
      ],
      "metadata": {
        "id": "EEAiUdB0h_Fo"
      },
      "execution_count": null,
      "outputs": []
    },
    {
      "cell_type": "code",
      "source": [
        "for i in Dict_images.keys():\n",
        "    colab_link = '/content/'+str(i)+'_rotation_model_31_1003.h5'\n",
        "    gdrive_link = \"/content/drive/My Drive/models_rotation/\"\n",
        "    shutil.copy(colab_link, gdrive_link)"
      ],
      "metadata": {
        "id": "49zT5Ana-S9y"
      },
      "execution_count": null,
      "outputs": []
    },
    {
      "cell_type": "markdown",
      "source": [
        "# Prediction"
      ],
      "metadata": {
        "id": "9gh1ZAIgnbGY"
      }
    },
    {
      "cell_type": "code",
      "source": [
        "!mkdir /content/images\n",
        "!mkdir /content/images/test\n",
        "!mkdir /content/labels\n",
        "!mkdir /content/labels/test\n",
        "!mkdir /content/rotations\n",
        "!mkdir /content/rotations/test"
      ],
      "metadata": {
        "id": "be9KqOti4siO"
      },
      "execution_count": null,
      "outputs": []
    },
    {
      "cell_type": "code",
      "source": [
        "!unzip -q '/content/drive/My Drive/NATO/test.zip' -d '/content/images/test'\n",
        "!unzip -q '/content/drive/My Drive/NATO/test_l.zip' -d '/content/labels/test'\n",
        "!unzip -q '/content/drive/My Drive/NATO/test_r.zip' -d '/content/rotations/test'"
      ],
      "metadata": {
        "id": "tlBtrPq3AIy6"
      },
      "execution_count": null,
      "outputs": []
    },
    {
      "cell_type": "code",
      "source": [
        "Dict_images_test = {key: [] for key in Dict.values()}\n",
        "Dict_rotations_test = {key: [] for key in Dict.values()}\n",
        "Dict_predicted_test = {key: [] for key in Dict.values()}\n",
        "Dict_angle_errors_test  = {key: [] for key in Dict.values()}"
      ],
      "metadata": {
        "id": "nr28Hd3C6M9M"
      },
      "execution_count": null,
      "outputs": []
    },
    {
      "cell_type": "code",
      "source": [
        "images_test = '/content/images/test'\n",
        "labels_test = '/content/labels/test'\n",
        "rotations_test = '/content/rotations/test'\n",
        "\n",
        "file_list = os.listdir(images_test)\n",
        "model = CNNModel()\n",
        "\n",
        "for name in tqdm(file_list):\n",
        "    tmp_list_class = []\n",
        "    image = cv2.imread(images_test+\"/\"+name, cv2.IMREAD_GRAYSCALE)\n",
        "    with open(labels_test+\"/\"+str(name).split(\".\")[0]+\".txt\") as f:\n",
        "        lines = [line.rstrip('\\n') for line in f]\n",
        "        for line in lines:\n",
        "            x = int((float(line.split(\" \")[1])-(float(line.split(\" \")[3])/2)) * 770)\n",
        "            y = int((float(line.split(\" \")[2])-(float(line.split(\" \")[4])/2)) * 576)\n",
        "            w = int(float(line.split(\" \")[3]) * 770 + 5)\n",
        "            h = int(float(line.split(\" \")[4]) * 576 + 5)\n",
        "\n",
        "            crop_image = image[y:y+h, x:x+w]\n",
        "            tmp_list_class.append(int(line.split(\" \")[0]))\n",
        "            dim = (80, 80)\n",
        "            resized_img = cv2.resize(crop_image, dim, interpolation = cv2.INTER_AREA)\n",
        "            Dict_images_test[Dict[int(line.split(\" \")[0])]].append(resized_img)\n",
        "\n",
        "            ## Predict\n",
        "            reshaped_img = resized_img.reshape(1, 80, 80)\n",
        "            try:\n",
        "                model.load_weights('/content/drive/MyDrive/models_rotation/1203/'+Dict[int(line.split(\" \")[0])]+'_rotation_model_31_1203.h5')\n",
        "                predicted_rotation = model.predict(reshaped_img, verbose=0)\n",
        "                Dict_predicted_test[Dict[int(line.split(\" \")[0])]].append(np.argmax(predicted_rotation))\n",
        "            except OSError:\n",
        "                continue\n",
        "    with open(rotations_test+\"/\"+str(name).split(\".\")[0]+\".txt\") as a:\n",
        "        r = [line.rstrip('\\n') for line in a]\n",
        "        i = 0\n",
        "        for rotation in r:\n",
        "            Dict_rotations_test[Dict[tmp_list_class[i]]].append(rotation)\n",
        "            i += 1\n",
        "    "
      ],
      "metadata": {
        "id": "Kt3ZRk6N4UxE",
        "colab": {
          "base_uri": "https://localhost:8080/"
        },
        "outputId": "32223d2a-c57e-40a5-ae6f-c2a4b6dd2ee8"
      },
      "execution_count": null,
      "outputs": [
        {
          "output_type": "stream",
          "name": "stderr",
          "text": [
            "100%|██████████| 7000/7000 [53:57<00:00,  2.16it/s]\n"
          ]
        }
      ]
    },
    {
      "cell_type": "code",
      "source": [
        "for i in Dict_images.keys():\n",
        "    print(str(i))\n",
        "    symbol_name = str(i)\n",
        "\n",
        "    print(len(Dict_rotations_test[symbol_name]))\n",
        "    try:\n",
        "        if str(i) in ['destroy', 'neutralize', 'suppress']:\n",
        "            for i in range(len(Dict_rotations_test[symbol_name])):\n",
        "                Dict_angle_errors_test[symbol_name].append(angle_error_sym(int(Dict_rotations_test[symbol_name][i]), int(Dict_predicted_test[symbol_name][i])))\n",
        "        else:\n",
        "            for i in range(len(Dict_rotations_test[symbol_name])):\n",
        "                Dict_angle_errors_test[symbol_name].append(angle_error(int(Dict_rotations_test[symbol_name][i]), int(Dict_predicted_test[symbol_name][i])))\n",
        "\n",
        "        print(len(Dict_angle_errors_test[symbol_name]), round(np.mean(Dict_angle_errors_test[symbol_name]), 2))\n",
        "\n",
        "        kokku = sum(i <= 30 for i in Dict_angle_errors_test[symbol_name])\n",
        "        print(kokku, str(round(kokku/len(Dict_angle_errors_test[symbol_name])*100, 2))+\"%\")\n",
        "    except IndexError:\n",
        "        continue"
      ],
      "metadata": {
        "id": "nx04F-HZEAC0",
        "colab": {
          "base_uri": "https://localhost:8080/"
        },
        "outputId": "9083d7f4-5557-4e9f-f954-71700753cd09"
      },
      "execution_count": null,
      "outputs": [
        {
          "output_type": "stream",
          "name": "stdout",
          "text": [
            "advance_to_contact\n",
            "995\n",
            "995 11.42\n",
            "957 96.18%\n",
            "ambush\n",
            "1053\n",
            "1053 10.38\n",
            "1025 97.34%\n",
            "attack\n",
            "987\n",
            "987 9.33\n",
            "954 96.66%\n",
            "attack_by_fire\n",
            "1042\n",
            "1042 9.73\n",
            "1022 98.08%\n",
            "block\n",
            "1048\n",
            "1048 11.48\n",
            "1010 96.37%\n",
            "breach\n",
            "990\n",
            "990 8.87\n",
            "977 98.69%\n",
            "clear\n",
            "1099\n",
            "1099 10.34\n",
            "1073 97.63%\n",
            "contain\n",
            "1027\n",
            "1027 10.08\n",
            "1008 98.15%\n",
            "control\n",
            "1043\n",
            "1043 16.68\n",
            "971 93.1%\n",
            "counterattack\n",
            "979\n",
            "979 11.47\n",
            "915 93.46%\n",
            "cover\n",
            "986\n",
            "986 13.55\n",
            "937 95.03%\n",
            "delay\n",
            "1007\n",
            "1007 10.07\n",
            "987 98.01%\n",
            "deny\n",
            "983\n",
            "983 12.61\n",
            "946 96.24%\n",
            "destroy\n",
            "1036\n",
            "1036 11.89\n",
            "981 94.69%\n",
            "disrupt\n",
            "983\n",
            "983 11.67\n",
            "948 96.44%\n",
            "fix\n",
            "1000\n",
            "1000 11.08\n",
            "965 96.5%\n",
            "guard\n",
            "1016\n",
            "1016 12.0\n",
            "980 96.46%\n",
            "isolate\n",
            "979\n",
            "979 15.85\n",
            "920 93.97%\n",
            "main_attack\n",
            "980\n",
            "980 18.22\n",
            "857 87.45%\n",
            "neutralize\n",
            "1010\n",
            "1010 17.69\n",
            "873 86.44%\n",
            "occupy\n",
            "958\n",
            "958 13.21\n",
            "914 95.41%\n",
            "penetrate\n",
            "1061\n",
            "1061 9.22\n",
            "1040 98.02%\n",
            "retain\n",
            "994\n",
            "994 14.78\n",
            "940 94.57%\n",
            "retire\n",
            "1008\n",
            "1008 9.25\n",
            "993 98.51%\n",
            "screen\n",
            "1018\n",
            "1018 13.92\n",
            "965 94.79%\n",
            "secure\n",
            "975\n",
            "975 11.6\n",
            "937 96.1%\n",
            "seize\n",
            "1075\n",
            "1075 21.33\n",
            "831 77.3%\n",
            "support_by_fire\n",
            "1016\n",
            "1016 9.03\n",
            "1000 98.43%\n",
            "suppress\n",
            "1044\n",
            "1044 21.25\n",
            "852 81.61%\n",
            "turn\n",
            "1057\n",
            "1057 15.62\n",
            "961 90.92%\n",
            "withdraw\n",
            "935\n",
            "935 9.24\n",
            "914 97.75%\n"
          ]
        }
      ]
    },
    {
      "cell_type": "code",
      "source": [
        "symbol_name = \"advance_to_contact\"\n",
        "\n",
        "res = tuple(zip(Dict_angle_errors_test[symbol_name], Dict_rotations_test[symbol_name], Dict_predicted_test[symbol_name]))\n",
        "sorted(res, key = lambda x: (-x[0],x[1],x[2]))"
      ],
      "metadata": {
        "id": "ymTa9S0qLBhk"
      },
      "execution_count": null,
      "outputs": []
    }
  ]
}